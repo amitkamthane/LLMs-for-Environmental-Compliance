{
 "cells": [
  {
   "cell_type": "code",
   "execution_count": 14,
   "metadata": {},
   "outputs": [
    {
     "name": "stdout",
     "output_type": "stream",
     "text": [
      "Collecting fpdf\n",
      "  Downloading fpdf-1.7.2.tar.gz (39 kB)\n",
      "  Preparing metadata (setup.py): started\n",
      "  Preparing metadata (setup.py): finished with status 'done'\n",
      "Building wheels for collected packages: fpdf\n",
      "  Building wheel for fpdf (setup.py): started\n",
      "  Building wheel for fpdf (setup.py): finished with status 'done'\n",
      "  Created wheel for fpdf: filename=fpdf-1.7.2-py2.py3-none-any.whl size=40714 sha256=46bd955227bf3e6c64f90ec7d87bd7fd979a259733bca9cba6b99eb6f5f00cee\n",
      "  Stored in directory: c:\\users\\amit kamthane\\appdata\\local\\pip\\cache\\wheels\\f9\\95\\ba\\f418094659025eb9611f17cbcaf2334236bf39a0c3453ea455\n",
      "Successfully built fpdf\n",
      "Installing collected packages: fpdf\n",
      "Successfully installed fpdf-1.7.2\n"
     ]
    }
   ],
   "source": [
    "!pip install fpdf"
   ]
  },
  {
   "cell_type": "code",
   "execution_count": 1,
   "metadata": {},
   "outputs": [
    {
     "name": "stdout",
     "output_type": "stream",
     "text": [
      "Requirement already satisfied: openai==0.28 in d:\\anaconda\\envs\\openai-4o\\lib\\site-packages (0.28.0)\n",
      "Requirement already satisfied: requests>=2.20 in d:\\anaconda\\envs\\openai-4o\\lib\\site-packages (from openai==0.28) (2.32.3)\n",
      "Requirement already satisfied: tqdm in d:\\anaconda\\envs\\openai-4o\\lib\\site-packages (from openai==0.28) (4.66.5)\n",
      "Requirement already satisfied: aiohttp in d:\\anaconda\\envs\\openai-4o\\lib\\site-packages (from openai==0.28) (3.10.8)\n",
      "Requirement already satisfied: charset-normalizer<4,>=2 in d:\\anaconda\\envs\\openai-4o\\lib\\site-packages (from requests>=2.20->openai==0.28) (3.3.2)\n",
      "Requirement already satisfied: idna<4,>=2.5 in d:\\anaconda\\envs\\openai-4o\\lib\\site-packages (from requests>=2.20->openai==0.28) (3.10)\n",
      "Requirement already satisfied: urllib3<3,>=1.21.1 in d:\\anaconda\\envs\\openai-4o\\lib\\site-packages (from requests>=2.20->openai==0.28) (2.2.3)\n",
      "Requirement already satisfied: certifi>=2017.4.17 in d:\\anaconda\\envs\\openai-4o\\lib\\site-packages (from requests>=2.20->openai==0.28) (2024.8.30)\n",
      "Requirement already satisfied: aiohappyeyeballs>=2.3.0 in d:\\anaconda\\envs\\openai-4o\\lib\\site-packages (from aiohttp->openai==0.28) (2.4.3)\n",
      "Requirement already satisfied: aiosignal>=1.1.2 in d:\\anaconda\\envs\\openai-4o\\lib\\site-packages (from aiohttp->openai==0.28) (1.3.1)\n",
      "Requirement already satisfied: attrs>=17.3.0 in d:\\anaconda\\envs\\openai-4o\\lib\\site-packages (from aiohttp->openai==0.28) (24.2.0)\n",
      "Requirement already satisfied: frozenlist>=1.1.1 in d:\\anaconda\\envs\\openai-4o\\lib\\site-packages (from aiohttp->openai==0.28) (1.4.1)\n",
      "Requirement already satisfied: multidict<7.0,>=4.5 in d:\\anaconda\\envs\\openai-4o\\lib\\site-packages (from aiohttp->openai==0.28) (6.1.0)\n",
      "Requirement already satisfied: yarl<2.0,>=1.12.0 in d:\\anaconda\\envs\\openai-4o\\lib\\site-packages (from aiohttp->openai==0.28) (1.13.1)\n",
      "Requirement already satisfied: async-timeout<5.0,>=4.0 in d:\\anaconda\\envs\\openai-4o\\lib\\site-packages (from aiohttp->openai==0.28) (4.0.3)\n",
      "Requirement already satisfied: colorama in d:\\anaconda\\envs\\openai-4o\\lib\\site-packages (from tqdm->openai==0.28) (0.4.6)\n",
      "Requirement already satisfied: typing-extensions>=4.1.0 in d:\\anaconda\\envs\\openai-4o\\lib\\site-packages (from multidict<7.0,>=4.5->aiohttp->openai==0.28) (4.11.0)\n"
     ]
    }
   ],
   "source": [
    "# !pip install scikit-learn\n",
    "!pip install openai==0.28"
   ]
  },
  {
   "cell_type": "code",
   "execution_count": 2,
   "metadata": {},
   "outputs": [
    {
     "name": "stdout",
     "output_type": "stream",
     "text": [
      "Requirement already satisfied: openai in d:\\anaconda\\envs\\openai-4o\\lib\\site-packages (0.28.0)"
     ]
    },
    {
     "name": "stderr",
     "output_type": "stream",
     "text": [
      "ERROR: Could not find a version that satisfies the requirement upgrade (from versions: none)\n",
      "ERROR: No matching distribution found for upgrade\n"
     ]
    },
    {
     "name": "stdout",
     "output_type": "stream",
     "text": [
      "\n"
     ]
    }
   ],
   "source": [
    "!pip install openai upgrade"
   ]
  },
  {
   "cell_type": "code",
   "execution_count": 15,
   "metadata": {},
   "outputs": [],
   "source": [
    "import pandas as pd\n",
    "import numpy as np\n",
    "from fpdf import FPDF\n",
    "import os\n",
    "from dotenv import load_dotenv\n",
    "from sklearn.ensemble import IsolationForest\n",
    "import openai"
   ]
  },
  {
   "cell_type": "code",
   "execution_count": 4,
   "metadata": {},
   "outputs": [],
   "source": [
    "# Set your OpenAI API key\n",
    "load_dotenv()\n",
    "openai_api_key = os.environ['OPENAI_API_KEY']"
   ]
  },
  {
   "cell_type": "code",
   "execution_count": 5,
   "metadata": {},
   "outputs": [],
   "source": [
    "# Sample environmental data (e.g., emissions over time)\n",
    "data = pd.DataFrame({\n",
    "    'date': pd.date_range(start='2024-01-01', periods=30, freq='D'),\n",
    "    'CO2_emissions': np.random.normal(loc=1500, scale=100, size=30),  # Emissions in metric tons\n",
    "    'NOx_emissions': np.random.normal(loc=300, scale=30, size=30),  # NOx emissions in metric tons\n",
    "})\n",
    "\n",
    "# Step 1: Anomaly Detection using Isolation Forest\n",
    "iso_forest = IsolationForest(contamination=0.05)\n",
    "data['anomaly'] = iso_forest.fit_predict(data[['CO2_emissions', 'NOx_emissions']])\n",
    "\n",
    "# Flagging rows that are anomalies\n",
    "anomalies = data[data['anomaly'] == -1]  "
   ]
  },
  {
   "cell_type": "code",
   "execution_count": 6,
   "metadata": {},
   "outputs": [
    {
     "data": {
      "text/html": [
       "<div>\n",
       "<style scoped>\n",
       "    .dataframe tbody tr th:only-of-type {\n",
       "        vertical-align: middle;\n",
       "    }\n",
       "\n",
       "    .dataframe tbody tr th {\n",
       "        vertical-align: top;\n",
       "    }\n",
       "\n",
       "    .dataframe thead th {\n",
       "        text-align: right;\n",
       "    }\n",
       "</style>\n",
       "<table border=\"1\" class=\"dataframe\">\n",
       "  <thead>\n",
       "    <tr style=\"text-align: right;\">\n",
       "      <th></th>\n",
       "      <th>date</th>\n",
       "      <th>CO2_emissions</th>\n",
       "      <th>NOx_emissions</th>\n",
       "      <th>anomaly</th>\n",
       "    </tr>\n",
       "  </thead>\n",
       "  <tbody>\n",
       "    <tr>\n",
       "      <th>0</th>\n",
       "      <td>2024-01-01</td>\n",
       "      <td>1280.196819</td>\n",
       "      <td>286.188987</td>\n",
       "      <td>-1</td>\n",
       "    </tr>\n",
       "    <tr>\n",
       "      <th>7</th>\n",
       "      <td>2024-01-08</td>\n",
       "      <td>1729.492271</td>\n",
       "      <td>331.891826</td>\n",
       "      <td>-1</td>\n",
       "    </tr>\n",
       "  </tbody>\n",
       "</table>\n",
       "</div>"
      ],
      "text/plain": [
       "        date  CO2_emissions  NOx_emissions  anomaly\n",
       "0 2024-01-01    1280.196819     286.188987       -1\n",
       "7 2024-01-08    1729.492271     331.891826       -1"
      ]
     },
     "execution_count": 6,
     "metadata": {},
     "output_type": "execute_result"
    }
   ],
   "source": [
    "anomalies"
   ]
  },
  {
   "cell_type": "markdown",
   "metadata": {},
   "source": [
    "##### Use LLM to generate explanations for anomalies"
   ]
  },
  {
   "cell_type": "code",
   "execution_count": 8,
   "metadata": {},
   "outputs": [
    {
     "name": "stdout",
     "output_type": "stream",
     "text": [
      "1. Measurement Error: One of the potential causes of this anomaly could be due to measurement error. This could be caused by technical problems, human error, or faulty equipment. It is possible that the emissions data was recorded incorrectly, leading to the outlier values.\n",
      "\n",
      "Solution: To correct this, the data should be carefully checked for any errors or inconsistencies. If a measurement error is identified, it should be corrected and the emissions data should be updated accordingly.\n",
      "\n",
      "2. Incorrect Data Entry: Another possible cause of this anomaly could be incorrect data entry. This could happen if there was a mistake made while typing in the values.\n",
      "\n",
      "Solution: To correct this, the data should be re-checked for any typos or incorrect values. Any errors should be corrected and\n",
      "Possible Causes:\n",
      "1. Measurement Error - The anomaly could be due to incorrect measurement of emissions. This could be caused by faulty equipment, human error, or misinterpretation of data.\n",
      "\n",
      "2. Equipment Malfunction - Malfunctioning equipment or sensors can result in incorrect readings of emissions data. This could be caused by technical issues, lack of maintenance, or outdated equipment.\n",
      "\n",
      "3. Data Entry Error - The anomaly could be a result of human error while entering the emissions data. This could be caused by typo errors, incorrect conversion units, or incorrect interpretation of data.\n",
      "\n",
      "4. Unexpected Event - A sudden and unexpected event, such as a natural disaster or industrial accident, could have led to a significant increase in emissions. This could result in abnormal readings\n"
     ]
    }
   ],
   "source": [
    "for _, row in anomalies.iterrows():\n",
    "    anomaly_description = f\"\"\"\n",
    "    On {row['date'].strftime('%Y-%m-%d')}, an anomaly was detected with CO2 emissions of {row['CO2_emissions']} metric tons and NOx emissions of {row['NOx_emissions']} metric tons.\n",
    "    These values are outside the expected range based on previous observations.\n",
    "    \"\"\"\n",
    "    response = openai.Completion.create(\n",
    "        engine=\"gpt-3.5-turbo-instruct\",\n",
    "        prompt=f\"Explain the possible causes of this anomaly in environmental emissions data and suggest potential corrective actions:\\n\\n{anomaly_description}\",\n",
    "        max_tokens=150\n",
    "    )\n",
    "    \n",
    "    # Output the explanation provided by the LLM\n",
    "    print(response.choices[0].text.strip())"
   ]
  },
  {
   "cell_type": "markdown",
   "metadata": {},
   "source": [
    "##### Automated Reporting and Notifications"
   ]
  },
  {
   "cell_type": "code",
   "execution_count": 9,
   "metadata": {},
   "outputs": [],
   "source": [
    "# Generate a compliance report for detected anomalies\n",
    "report = \"Environmental Compliance Report\\n\"\n",
    "for _, row in anomalies.iterrows():\n",
    "    report += f\"Date: {row['date'].strftime('%Y-%m-%d')}\\n\"\n",
    "    report += f\"CO2 Emissions: {row['CO2_emissions']} metric tons\\n\"\n",
    "    report += f\"NOx Emissions: {row['NOx_emissions']} metric tons\\n\"\n",
    "    report += f\"Anomaly detected. Suggested action: {response.choices[0].text.strip()}\\n\\n\"\n"
   ]
  },
  {
   "cell_type": "code",
   "execution_count": 10,
   "metadata": {},
   "outputs": [
    {
     "data": {
      "text/plain": [
       "'Environmental Compliance Report\\nDate: 2024-01-01\\nCO2 Emissions: 1280.1968194356862 metric tons\\nNOx Emissions: 286.18898691866247 metric tons\\nAnomaly detected. Suggested action: Possible Causes:\\n1. Measurement Error - The anomaly could be due to incorrect measurement of emissions. This could be caused by faulty equipment, human error, or misinterpretation of data.\\n\\n2. Equipment Malfunction - Malfunctioning equipment or sensors can result in incorrect readings of emissions data. This could be caused by technical issues, lack of maintenance, or outdated equipment.\\n\\n3. Data Entry Error - The anomaly could be a result of human error while entering the emissions data. This could be caused by typo errors, incorrect conversion units, or incorrect interpretation of data.\\n\\n4. Unexpected Event - A sudden and unexpected event, such as a natural disaster or industrial accident, could have led to a significant increase in emissions. This could result in abnormal readings\\n\\nDate: 2024-01-08\\nCO2 Emissions: 1729.4922711760937 metric tons\\nNOx Emissions: 331.89182599766417 metric tons\\nAnomaly detected. Suggested action: Possible Causes:\\n1. Measurement Error - The anomaly could be due to incorrect measurement of emissions. This could be caused by faulty equipment, human error, or misinterpretation of data.\\n\\n2. Equipment Malfunction - Malfunctioning equipment or sensors can result in incorrect readings of emissions data. This could be caused by technical issues, lack of maintenance, or outdated equipment.\\n\\n3. Data Entry Error - The anomaly could be a result of human error while entering the emissions data. This could be caused by typo errors, incorrect conversion units, or incorrect interpretation of data.\\n\\n4. Unexpected Event - A sudden and unexpected event, such as a natural disaster or industrial accident, could have led to a significant increase in emissions. This could result in abnormal readings\\n\\n'"
      ]
     },
     "execution_count": 10,
     "metadata": {},
     "output_type": "execute_result"
    }
   ],
   "source": [
    "report"
   ]
  },
  {
   "cell_type": "code",
   "execution_count": 17,
   "metadata": {},
   "outputs": [],
   "source": [
    "def create_pdf(summary, table_data=None):\n",
    "    pdf = FPDF()\n",
    "    pdf.add_page()\n",
    "    \n",
    "    # Add title\n",
    "    pdf.set_font(\"Arial\", size=12)\n",
    "    pdf.cell(200, 10, txt=\"Summary\", ln=True, align='C')\n",
    "    \n",
    "    # Add summary text\n",
    "    pdf.set_font(\"Arial\", size=10)\n",
    "    pdf.multi_cell(0, 10, summary)\n",
    "\n",
    "    # Add table if data is provided\n",
    "    if table_data:\n",
    "        pdf.ln(10)\n",
    "        pdf.set_font(\"Arial\", size=12)\n",
    "        pdf.cell(200, 10, txt=\"Table\", ln=True, align='C')\n",
    "        \n",
    "        pdf.set_font(\"Arial\", size=10)\n",
    "        col_width = pdf.w / 4.5\n",
    "        row_height = pdf.font_size\n",
    "        \n",
    "        for row in table_data:\n",
    "            for item in row:\n",
    "                pdf.cell(col_width, row_height*1.5, txt=item, border=1)\n",
    "            pdf.ln(row_height*1.5)\n",
    "    \n",
    "    pdf.output(\"summary.pdf\")\n",
    "\n",
    "\n",
    "\n",
    "summary = create_pdf(report)"
   ]
  }
 ],
 "metadata": {
  "kernelspec": {
   "display_name": "openai-4o",
   "language": "python",
   "name": "python3"
  },
  "language_info": {
   "codemirror_mode": {
    "name": "ipython",
    "version": 3
   },
   "file_extension": ".py",
   "mimetype": "text/x-python",
   "name": "python",
   "nbconvert_exporter": "python",
   "pygments_lexer": "ipython3",
   "version": "3.10.14"
  }
 },
 "nbformat": 4,
 "nbformat_minor": 2
}
